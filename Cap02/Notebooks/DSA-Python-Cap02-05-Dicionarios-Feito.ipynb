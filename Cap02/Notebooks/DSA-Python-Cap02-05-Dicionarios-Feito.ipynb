{
 "cells": [
  {
   "cell_type": "markdown",
   "id": "6e4d0ac0",
   "metadata": {},
   "source": [
    "### Dicionários"
   ]
  },
  {
   "cell_type": "code",
   "execution_count": 22,
   "id": "7157de96",
   "metadata": {},
   "outputs": [],
   "source": [
    "#Lista\n",
    "estudantes_lst = [\"Sebastian\", 24, \"Seiten\", 29, \"Joker\", 21]"
   ]
  },
  {
   "cell_type": "code",
   "execution_count": 23,
   "id": "bc4ecbed",
   "metadata": {},
   "outputs": [
    {
     "data": {
      "text/plain": [
       "['Sebastian', 24, 'Seiten', 29, 'Joker', 21]"
      ]
     },
     "execution_count": 23,
     "metadata": {},
     "output_type": "execute_result"
    }
   ],
   "source": [
    "estudantes_lst"
   ]
  },
  {
   "cell_type": "code",
   "execution_count": 24,
   "id": "eb1ff55d",
   "metadata": {},
   "outputs": [],
   "source": [
    "#Dicionário\n",
    "estudantes_dcn = {\"Sebastian\": 24, \"Seiten\": 29, \"Joker\": 21}"
   ]
  },
  {
   "cell_type": "code",
   "execution_count": 25,
   "id": "3ea69b6a",
   "metadata": {},
   "outputs": [
    {
     "data": {
      "text/plain": [
       "{'Sebastian': 24, 'Seiten': 29, 'Joker': 21}"
      ]
     },
     "execution_count": 25,
     "metadata": {},
     "output_type": "execute_result"
    }
   ],
   "source": [
    "estudantes_dcn"
   ]
  },
  {
   "cell_type": "code",
   "execution_count": 26,
   "id": "b201cf15",
   "metadata": {},
   "outputs": [
    {
     "data": {
      "text/plain": [
       "24"
      ]
     },
     "execution_count": 26,
     "metadata": {},
     "output_type": "execute_result"
    }
   ],
   "source": [
    "#Colchetes são notação de indice []\n",
    "estudantes_dcn[\"Sebastian\"]"
   ]
  },
  {
   "cell_type": "code",
   "execution_count": 27,
   "id": "b9783cf4",
   "metadata": {},
   "outputs": [
    {
     "data": {
      "text/plain": [
       "29"
      ]
     },
     "execution_count": 27,
     "metadata": {},
     "output_type": "execute_result"
    }
   ],
   "source": [
    "estudantes_dcn[\"Seiten\"]"
   ]
  },
  {
   "cell_type": "code",
   "execution_count": 28,
   "id": "bda153a9",
   "metadata": {},
   "outputs": [
    {
     "data": {
      "text/plain": [
       "21"
      ]
     },
     "execution_count": 28,
     "metadata": {},
     "output_type": "execute_result"
    }
   ],
   "source": [
    "estudantes_dcn[\"Joker\"]"
   ]
  },
  {
   "cell_type": "code",
   "execution_count": 29,
   "id": "46950889",
   "metadata": {},
   "outputs": [],
   "source": [
    "estudantes_dcn[\"P. Eduardo\"] = 32"
   ]
  },
  {
   "cell_type": "code",
   "execution_count": 30,
   "id": "d7f38cec",
   "metadata": {},
   "outputs": [
    {
     "data": {
      "text/plain": [
       "{'Sebastian': 24, 'Seiten': 29, 'Joker': 21, 'P. Eduardo': 32}"
      ]
     },
     "execution_count": 30,
     "metadata": {},
     "output_type": "execute_result"
    }
   ],
   "source": [
    "estudantes_dcn"
   ]
  },
  {
   "cell_type": "code",
   "execution_count": 31,
   "id": "cb318745",
   "metadata": {},
   "outputs": [
    {
     "data": {
      "text/plain": [
       "24"
      ]
     },
     "execution_count": 31,
     "metadata": {},
     "output_type": "execute_result"
    }
   ],
   "source": [
    "estudantes_dcn['Sebastian']"
   ]
  },
  {
   "cell_type": "code",
   "execution_count": 32,
   "id": "d7723c03",
   "metadata": {},
   "outputs": [],
   "source": [
    "#Limpa o dicionário\n",
    "estudantes_dcn.clear()"
   ]
  },
  {
   "cell_type": "code",
   "execution_count": 35,
   "id": "fc34acfa",
   "metadata": {},
   "outputs": [
    {
     "ename": "NameError",
     "evalue": "name 'estudantes_dcn' is not defined",
     "output_type": "error",
     "traceback": [
      "\u001b[0;31m---------------------------------------------------------------------------\u001b[0m",
      "\u001b[0;31mNameError\u001b[0m                                 Traceback (most recent call last)",
      "\u001b[0;32m<ipython-input-35-577dd338d600>\u001b[0m in \u001b[0;36m<module>\u001b[0;34m\u001b[0m\n\u001b[0;32m----> 1\u001b[0;31m \u001b[0mestudantes_dcn\u001b[0m\u001b[0;34m\u001b[0m\u001b[0;34m\u001b[0m\u001b[0m\n\u001b[0m",
      "\u001b[0;31mNameError\u001b[0m: name 'estudantes_dcn' is not defined"
     ]
    }
   ],
   "source": [
    "estudantes_dcn"
   ]
  },
  {
   "cell_type": "code",
   "execution_count": 34,
   "id": "a4bee673",
   "metadata": {},
   "outputs": [],
   "source": [
    "#Exclui o dicionário\n",
    "del estudantes_dcn"
   ]
  },
  {
   "cell_type": "code",
   "execution_count": 36,
   "id": "b72d9d77",
   "metadata": {},
   "outputs": [],
   "source": [
    "estudantes = {'Sebastian': 24, 'Seiten': 29, 'Joker': 21, 'P. Eduardo': 32}"
   ]
  },
  {
   "cell_type": "code",
   "execution_count": 37,
   "id": "cca90611",
   "metadata": {},
   "outputs": [
    {
     "data": {
      "text/plain": [
       "{'Sebastian': 24, 'Seiten': 29, 'Joker': 21, 'P. Eduardo': 32}"
      ]
     },
     "execution_count": 37,
     "metadata": {},
     "output_type": "execute_result"
    }
   ],
   "source": [
    "estudantes"
   ]
  },
  {
   "cell_type": "code",
   "execution_count": 38,
   "id": "40177880",
   "metadata": {},
   "outputs": [
    {
     "data": {
      "text/plain": [
       "4"
      ]
     },
     "execution_count": 38,
     "metadata": {},
     "output_type": "execute_result"
    }
   ],
   "source": [
    "len(estudantes)"
   ]
  },
  {
   "cell_type": "code",
   "execution_count": 40,
   "id": "11dfd16c",
   "metadata": {},
   "outputs": [
    {
     "data": {
      "text/plain": [
       "dict_keys(['Sebastian', 'Seiten', 'Joker', 'P. Eduardo'])"
      ]
     },
     "execution_count": 40,
     "metadata": {},
     "output_type": "execute_result"
    }
   ],
   "source": [
    "#Retorna as chaves do dicionário\n",
    "estudantes.keys()"
   ]
  },
  {
   "cell_type": "code",
   "execution_count": 41,
   "id": "b2a820b2",
   "metadata": {},
   "outputs": [
    {
     "data": {
      "text/plain": [
       "dict_values([24, 29, 21, 32])"
      ]
     },
     "execution_count": 41,
     "metadata": {},
     "output_type": "execute_result"
    }
   ],
   "source": [
    "#Retorna apenas os valores presentes no dicionário\n",
    "estudantes.values()"
   ]
  },
  {
   "cell_type": "code",
   "execution_count": 42,
   "id": "f969e71b",
   "metadata": {},
   "outputs": [
    {
     "data": {
      "text/plain": [
       "dict_items([('Sebastian', 24), ('Seiten', 29), ('Joker', 21), ('P. Eduardo', 32)])"
      ]
     },
     "execution_count": 42,
     "metadata": {},
     "output_type": "execute_result"
    }
   ],
   "source": [
    "estudantes.items()"
   ]
  },
  {
   "cell_type": "code",
   "execution_count": 43,
   "id": "619daa8a",
   "metadata": {},
   "outputs": [],
   "source": [
    "estudantes2 = {\"Maria\": 27, \"Erika\": 28, \"Miriam\": 26}"
   ]
  },
  {
   "cell_type": "code",
   "execution_count": 44,
   "id": "e079c7a4",
   "metadata": {},
   "outputs": [
    {
     "data": {
      "text/plain": [
       "{'Maria': 27, 'Erika': 28, 'Miriam': 26}"
      ]
     },
     "execution_count": 44,
     "metadata": {},
     "output_type": "execute_result"
    }
   ],
   "source": [
    "estudantes2"
   ]
  },
  {
   "cell_type": "code",
   "execution_count": 45,
   "id": "49b119af",
   "metadata": {},
   "outputs": [],
   "source": [
    "estudantes.update(estudantes2)"
   ]
  },
  {
   "cell_type": "code",
   "execution_count": 46,
   "id": "9b645e47",
   "metadata": {},
   "outputs": [
    {
     "data": {
      "text/plain": [
       "{'Sebastian': 24,\n",
       " 'Seiten': 29,\n",
       " 'Joker': 21,\n",
       " 'P. Eduardo': 32,\n",
       " 'Maria': 27,\n",
       " 'Erika': 28,\n",
       " 'Miriam': 26}"
      ]
     },
     "execution_count": 46,
     "metadata": {},
     "output_type": "execute_result"
    }
   ],
   "source": [
    "estudantes"
   ]
  },
  {
   "cell_type": "code",
   "execution_count": 47,
   "id": "aff83ba5",
   "metadata": {},
   "outputs": [],
   "source": [
    "dcn1 = {}"
   ]
  },
  {
   "cell_type": "code",
   "execution_count": 48,
   "id": "761814a3",
   "metadata": {},
   "outputs": [
    {
     "data": {
      "text/plain": [
       "{}"
      ]
     },
     "execution_count": 48,
     "metadata": {},
     "output_type": "execute_result"
    }
   ],
   "source": [
    "dcn1"
   ]
  },
  {
   "cell_type": "code",
   "execution_count": 49,
   "id": "6aa1d6e7",
   "metadata": {},
   "outputs": [],
   "source": [
    "dcn1[\"key_one\"] = 2"
   ]
  },
  {
   "cell_type": "code",
   "execution_count": 50,
   "id": "da4a8a5a",
   "metadata": {},
   "outputs": [
    {
     "name": "stdout",
     "output_type": "stream",
     "text": [
      "{'key_one': 2}\n"
     ]
    }
   ],
   "source": [
    "print(dcn1)"
   ]
  },
  {
   "cell_type": "code",
   "execution_count": 51,
   "id": "61cf68d1",
   "metadata": {},
   "outputs": [],
   "source": [
    "dcn1[10] = 5"
   ]
  },
  {
   "cell_type": "code",
   "execution_count": 52,
   "id": "19d54551",
   "metadata": {},
   "outputs": [
    {
     "data": {
      "text/plain": [
       "{'key_one': 2, 10: 5}"
      ]
     },
     "execution_count": 52,
     "metadata": {},
     "output_type": "execute_result"
    }
   ],
   "source": [
    "dcn1"
   ]
  },
  {
   "cell_type": "code",
   "execution_count": 53,
   "id": "1030ec08",
   "metadata": {},
   "outputs": [],
   "source": [
    "dcn1[8.2] = \"Python\""
   ]
  },
  {
   "cell_type": "code",
   "execution_count": 54,
   "id": "3f81c7e0",
   "metadata": {},
   "outputs": [
    {
     "data": {
      "text/plain": [
       "{'key_one': 2, 10: 5, 8.2: 'Python'}"
      ]
     },
     "execution_count": 54,
     "metadata": {},
     "output_type": "execute_result"
    }
   ],
   "source": [
    "dcn1"
   ]
  },
  {
   "cell_type": "code",
   "execution_count": 55,
   "id": "3fc5e331",
   "metadata": {},
   "outputs": [],
   "source": [
    "dcn1[\"teste\"] = 5"
   ]
  },
  {
   "cell_type": "code",
   "execution_count": 56,
   "id": "3c00982a",
   "metadata": {},
   "outputs": [
    {
     "data": {
      "text/plain": [
       "{'key_one': 2, 10: 5, 8.2: 'Python', 'teste': 5}"
      ]
     },
     "execution_count": 56,
     "metadata": {},
     "output_type": "execute_result"
    }
   ],
   "source": [
    "dcn1"
   ]
  },
  {
   "cell_type": "code",
   "execution_count": 57,
   "id": "1f50d83e",
   "metadata": {},
   "outputs": [],
   "source": [
    "dic2 = {}"
   ]
  },
  {
   "cell_type": "code",
   "execution_count": 58,
   "id": "ea992be4",
   "metadata": {},
   "outputs": [
    {
     "data": {
      "text/plain": [
       "{}"
      ]
     },
     "execution_count": 58,
     "metadata": {},
     "output_type": "execute_result"
    }
   ],
   "source": [
    "dic2"
   ]
  },
  {
   "cell_type": "code",
   "execution_count": 59,
   "id": "3dc65af4",
   "metadata": {},
   "outputs": [],
   "source": [
    "dic2[\"teste\"] = 10"
   ]
  },
  {
   "cell_type": "code",
   "execution_count": 60,
   "id": "9c809bfb",
   "metadata": {},
   "outputs": [],
   "source": [
    "dic2[\"key\"] = \"teste\""
   ]
  },
  {
   "cell_type": "code",
   "execution_count": 61,
   "id": "6cdc49d1",
   "metadata": {},
   "outputs": [
    {
     "data": {
      "text/plain": [
       "{'teste': 10, 'key': 'teste'}"
      ]
     },
     "execution_count": 61,
     "metadata": {},
     "output_type": "execute_result"
    }
   ],
   "source": [
    "#teste aparece duas vezes, mas representando coisas diferentes\n",
    "dic2"
   ]
  },
  {
   "cell_type": "code",
   "execution_count": 62,
   "id": "8855c515",
   "metadata": {},
   "outputs": [],
   "source": [
    "dic3 = {}"
   ]
  },
  {
   "cell_type": "code",
   "execution_count": 64,
   "id": "4c9214ab",
   "metadata": {},
   "outputs": [],
   "source": [
    "dic3[\"key1\"] = \"Big Data\""
   ]
  },
  {
   "cell_type": "code",
   "execution_count": 65,
   "id": "ffe98849",
   "metadata": {},
   "outputs": [],
   "source": [
    "dic3[\"key2\"] = 10"
   ]
  },
  {
   "cell_type": "code",
   "execution_count": 66,
   "id": "33353a89",
   "metadata": {},
   "outputs": [],
   "source": [
    "dic3[\"key3\"] = 5.6"
   ]
  },
  {
   "cell_type": "code",
   "execution_count": 67,
   "id": "b3bf087c",
   "metadata": {},
   "outputs": [
    {
     "data": {
      "text/plain": [
       "{'key1': 'Big Data', 'key2': 10, 'key3': 5.6}"
      ]
     },
     "execution_count": 67,
     "metadata": {},
     "output_type": "execute_result"
    }
   ],
   "source": [
    "dic3"
   ]
  },
  {
   "cell_type": "code",
   "execution_count": 68,
   "id": "981e732c",
   "metadata": {},
   "outputs": [],
   "source": [
    "a = dic3[\"key1\"]"
   ]
  },
  {
   "cell_type": "code",
   "execution_count": 69,
   "id": "2de37eee",
   "metadata": {},
   "outputs": [],
   "source": [
    "b = dic3[\"key2\"]"
   ]
  },
  {
   "cell_type": "code",
   "execution_count": 70,
   "id": "6d04dd35",
   "metadata": {},
   "outputs": [],
   "source": [
    "c = dic3[\"key3\"]"
   ]
  },
  {
   "cell_type": "code",
   "execution_count": 71,
   "id": "241876bd",
   "metadata": {},
   "outputs": [
    {
     "data": {
      "text/plain": [
       "('Big Data', 10, 5.6)"
      ]
     },
     "execution_count": 71,
     "metadata": {},
     "output_type": "execute_result"
    }
   ],
   "source": [
    "a, b, c"
   ]
  },
  {
   "cell_type": "code",
   "execution_count": 72,
   "id": "8e05c8f2",
   "metadata": {},
   "outputs": [],
   "source": [
    "#Dicionário de listas\n",
    "dic4= {'key1':1936, 'key2':[22,453,73.4],'key3':['amora','goiaba','manga']}"
   ]
  },
  {
   "cell_type": "code",
   "execution_count": 73,
   "id": "f29dc861",
   "metadata": {},
   "outputs": [
    {
     "data": {
      "text/plain": [
       "{'key1': 1936, 'key2': [22, 453, 73.4], 'key3': ['amora', 'goiaba', 'manga']}"
      ]
     },
     "execution_count": 73,
     "metadata": {},
     "output_type": "execute_result"
    }
   ],
   "source": [
    "dic4"
   ]
  },
  {
   "cell_type": "code",
   "execution_count": 74,
   "id": "34938b89",
   "metadata": {},
   "outputs": [
    {
     "data": {
      "text/plain": [
       "'goiaba'"
      ]
     },
     "execution_count": 74,
     "metadata": {},
     "output_type": "execute_result"
    }
   ],
   "source": [
    "#Acessando um item da lista, dentro do dicionário\n",
    "dic4['key3'][1]"
   ]
  },
  {
   "cell_type": "code",
   "execution_count": 75,
   "id": "d0d5a3a0",
   "metadata": {},
   "outputs": [],
   "source": [
    "#Operações com itens da lista, dentro do dicionário\n",
    "valor = dic4['key2'][2] - 23"
   ]
  },
  {
   "cell_type": "code",
   "execution_count": 76,
   "id": "ac94614b",
   "metadata": {},
   "outputs": [
    {
     "data": {
      "text/plain": [
       "50.400000000000006"
      ]
     },
     "execution_count": 76,
     "metadata": {},
     "output_type": "execute_result"
    }
   ],
   "source": [
    "valor"
   ]
  },
  {
   "cell_type": "code",
   "execution_count": 77,
   "id": "735893c3",
   "metadata": {},
   "outputs": [],
   "source": [
    "#Duas operações no mesmo comando, para atualizar o item na lista\n",
    "dic4['key2'][0] += 2"
   ]
  },
  {
   "cell_type": "code",
   "execution_count": 78,
   "id": "cb1e3fb0",
   "metadata": {},
   "outputs": [
    {
     "data": {
      "text/plain": [
       "{'key1': 1936, 'key2': [24, 453, 73.4], 'key3': ['amora', 'goiaba', 'manga']}"
      ]
     },
     "execution_count": 78,
     "metadata": {},
     "output_type": "execute_result"
    }
   ],
   "source": [
    "dic4"
   ]
  },
  {
   "cell_type": "code",
   "execution_count": 79,
   "id": "a3165b26",
   "metadata": {},
   "outputs": [],
   "source": [
    "#Dicionários aninhados\n",
    "dcn_aninhado = {'key1':{'key2_aninhada':{'key3_aninhadadenovo':'Dicionário aninhado em Python'}}}"
   ]
  },
  {
   "cell_type": "code",
   "execution_count": 81,
   "id": "64525662",
   "metadata": {},
   "outputs": [
    {
     "data": {
      "text/plain": [
       "{'key1': {'key2_aninhada': {'key3_aninhadadenovo': 'Dicionário aninhado em Python'}}}"
      ]
     },
     "execution_count": 81,
     "metadata": {},
     "output_type": "execute_result"
    }
   ],
   "source": [
    "dcn_aninhado"
   ]
  },
  {
   "cell_type": "code",
   "execution_count": 82,
   "id": "5780d8e5",
   "metadata": {},
   "outputs": [
    {
     "data": {
      "text/plain": [
       "'Dicionário aninhado em Python'"
      ]
     },
     "execution_count": 82,
     "metadata": {},
     "output_type": "execute_result"
    }
   ],
   "source": [
    "dcn_aninhado['key1']['key2_aninhada']['key3_aninhadadenovo']"
   ]
  },
  {
   "cell_type": "code",
   "execution_count": null,
   "id": "e53e3a50",
   "metadata": {},
   "outputs": [],
   "source": []
  }
 ],
 "metadata": {
  "kernelspec": {
   "display_name": "Python 3",
   "language": "python",
   "name": "python3"
  },
  "language_info": {
   "codemirror_mode": {
    "name": "ipython",
    "version": 3
   },
   "file_extension": ".py",
   "mimetype": "text/x-python",
   "name": "python",
   "nbconvert_exporter": "python",
   "pygments_lexer": "ipython3",
   "version": "3.8.8"
  }
 },
 "nbformat": 4,
 "nbformat_minor": 5
}
