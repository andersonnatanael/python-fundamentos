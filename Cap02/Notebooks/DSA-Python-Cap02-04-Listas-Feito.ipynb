{
 "cells": [
  {
   "cell_type": "markdown",
   "id": "6262e22f",
   "metadata": {},
   "source": [
    "# Listas"
   ]
  },
  {
   "cell_type": "code",
   "execution_count": 8,
   "id": "cd86a1f6",
   "metadata": {},
   "outputs": [],
   "source": [
    "#Criando e imprimindo listas"
   ]
  },
  {
   "cell_type": "code",
   "execution_count": 1,
   "id": "60700ae7",
   "metadata": {},
   "outputs": [],
   "source": [
    "listadomercado = [\"leite, carne, banana, feijão\"]"
   ]
  },
  {
   "cell_type": "code",
   "execution_count": 2,
   "id": "a90fa2dd",
   "metadata": {},
   "outputs": [
    {
     "name": "stdout",
     "output_type": "stream",
     "text": [
      "['leite, carne, banana, feijão']\n"
     ]
    }
   ],
   "source": [
    "print(listadomercado)"
   ]
  },
  {
   "cell_type": "code",
   "execution_count": 3,
   "id": "e3091a0f",
   "metadata": {},
   "outputs": [],
   "source": [
    "listadomercado2 = [\"leite\", \"carne\", \"banana\", \"feijão\"]"
   ]
  },
  {
   "cell_type": "code",
   "execution_count": 4,
   "id": "18ed9fb1",
   "metadata": {},
   "outputs": [
    {
     "name": "stdout",
     "output_type": "stream",
     "text": [
      "['leite', 'carne', 'banana', 'feijão']\n"
     ]
    }
   ],
   "source": [
    "print(listadomercado2)"
   ]
  },
  {
   "cell_type": "code",
   "execution_count": 5,
   "id": "fd780b24",
   "metadata": {},
   "outputs": [],
   "source": [
    "lista3 = [6, 13, \"74 bilhões\"]"
   ]
  },
  {
   "cell_type": "code",
   "execution_count": 6,
   "id": "f3ff2cfb",
   "metadata": {},
   "outputs": [],
   "source": [
    "item1 = lista3[0]\n",
    "item2 = lista3[1]\n",
    "item3 = lista3[2]"
   ]
  },
  {
   "cell_type": "code",
   "execution_count": 7,
   "id": "7518759b",
   "metadata": {},
   "outputs": [
    {
     "name": "stdout",
     "output_type": "stream",
     "text": [
      "6 13 74 bilhões\n"
     ]
    }
   ],
   "source": [
    "print(item1, item2, item3)"
   ]
  },
  {
   "cell_type": "code",
   "execution_count": 9,
   "id": "69b59720",
   "metadata": {},
   "outputs": [],
   "source": [
    "#Atualizando um item na lista"
   ]
  },
  {
   "cell_type": "code",
   "execution_count": 10,
   "id": "df8dbbac",
   "metadata": {},
   "outputs": [
    {
     "data": {
      "text/plain": [
       "['leite', 'carne', 'banana', 'feijão']"
      ]
     },
     "execution_count": 10,
     "metadata": {},
     "output_type": "execute_result"
    }
   ],
   "source": [
    "listadomercado2"
   ]
  },
  {
   "cell_type": "code",
   "execution_count": 11,
   "id": "269b16cf",
   "metadata": {},
   "outputs": [
    {
     "data": {
      "text/plain": [
       "'banana'"
      ]
     },
     "execution_count": 11,
     "metadata": {},
     "output_type": "execute_result"
    }
   ],
   "source": [
    "listadomercado2[2]"
   ]
  },
  {
   "cell_type": "code",
   "execution_count": 12,
   "id": "2311f763",
   "metadata": {},
   "outputs": [],
   "source": [
    "listadomercado2[2] = \"chocolate\""
   ]
  },
  {
   "cell_type": "code",
   "execution_count": 13,
   "id": "041b0b92",
   "metadata": {},
   "outputs": [
    {
     "data": {
      "text/plain": [
       "['leite', 'carne', 'chocolate', 'feijão']"
      ]
     },
     "execution_count": 13,
     "metadata": {},
     "output_type": "execute_result"
    }
   ],
   "source": [
    "listadomercado2"
   ]
  },
  {
   "cell_type": "code",
   "execution_count": 14,
   "id": "685cf852",
   "metadata": {},
   "outputs": [],
   "source": [
    "#Deletando um item"
   ]
  },
  {
   "cell_type": "code",
   "execution_count": 16,
   "id": "2a816545",
   "metadata": {},
   "outputs": [
    {
     "ename": "IndexError",
     "evalue": "list assignment index out of range",
     "output_type": "error",
     "traceback": [
      "\u001b[0;31m---------------------------------------------------------------------------\u001b[0m",
      "\u001b[0;31mIndexError\u001b[0m                                Traceback (most recent call last)",
      "\u001b[0;32m<ipython-input-16-af3235c73185>\u001b[0m in \u001b[0;36m<module>\u001b[0;34m\u001b[0m\n\u001b[1;32m      1\u001b[0m \u001b[0;31m#4 não faz parte do index desta lista, ele vai de 0 a 3\u001b[0m\u001b[0;34m\u001b[0m\u001b[0;34m\u001b[0m\u001b[0;34m\u001b[0m\u001b[0m\n\u001b[0;32m----> 2\u001b[0;31m \u001b[0;32mdel\u001b[0m \u001b[0mlistadomercado2\u001b[0m\u001b[0;34m[\u001b[0m\u001b[0;36m4\u001b[0m\u001b[0;34m]\u001b[0m\u001b[0;34m\u001b[0m\u001b[0;34m\u001b[0m\u001b[0m\n\u001b[0m",
      "\u001b[0;31mIndexError\u001b[0m: list assignment index out of range"
     ]
    }
   ],
   "source": [
    "#4 não faz parte do index desta lista, ele vai de 0 a 3\n",
    "del listadomercado2[4]"
   ]
  },
  {
   "cell_type": "code",
   "execution_count": 18,
   "id": "beb8109b",
   "metadata": {},
   "outputs": [],
   "source": [
    "del listadomercado2[2]"
   ]
  },
  {
   "cell_type": "code",
   "execution_count": 19,
   "id": "f573d99b",
   "metadata": {},
   "outputs": [
    {
     "data": {
      "text/plain": [
       "['leite', 'carne', 'feijão']"
      ]
     },
     "execution_count": 19,
     "metadata": {},
     "output_type": "execute_result"
    }
   ],
   "source": [
    "listadomercado2"
   ]
  },
  {
   "cell_type": "code",
   "execution_count": 20,
   "id": "2e9a0858",
   "metadata": {},
   "outputs": [],
   "source": [
    "#Listas aninhadas"
   ]
  },
  {
   "cell_type": "code",
   "execution_count": 21,
   "id": "f92d2f32",
   "metadata": {},
   "outputs": [],
   "source": [
    "listas = [[1,2,3],[10,15,14],[10.1,8.7,2.3]]"
   ]
  },
  {
   "cell_type": "code",
   "execution_count": 22,
   "id": "f86549f8",
   "metadata": {},
   "outputs": [
    {
     "data": {
      "text/plain": [
       "[[1, 2, 3], [10, 15, 14], [10.1, 8.7, 2.3]]"
      ]
     },
     "execution_count": 22,
     "metadata": {},
     "output_type": "execute_result"
    }
   ],
   "source": [
    "listas"
   ]
  },
  {
   "cell_type": "code",
   "execution_count": 23,
   "id": "21a997f6",
   "metadata": {},
   "outputs": [],
   "source": [
    "a = listas[0]"
   ]
  },
  {
   "cell_type": "code",
   "execution_count": 24,
   "id": "f0196822",
   "metadata": {},
   "outputs": [
    {
     "data": {
      "text/plain": [
       "[1, 2, 3]"
      ]
     },
     "execution_count": 24,
     "metadata": {},
     "output_type": "execute_result"
    }
   ],
   "source": [
    "a"
   ]
  },
  {
   "cell_type": "code",
   "execution_count": 25,
   "id": "d2c0046f",
   "metadata": {},
   "outputs": [],
   "source": [
    "b = a[0]"
   ]
  },
  {
   "cell_type": "code",
   "execution_count": 26,
   "id": "ad59e7ef",
   "metadata": {},
   "outputs": [
    {
     "data": {
      "text/plain": [
       "1"
      ]
     },
     "execution_count": 26,
     "metadata": {},
     "output_type": "execute_result"
    }
   ],
   "source": [
    "b"
   ]
  },
  {
   "cell_type": "code",
   "execution_count": 27,
   "id": "2d549c68",
   "metadata": {},
   "outputs": [],
   "source": [
    "list1 = listas[1]"
   ]
  },
  {
   "cell_type": "code",
   "execution_count": 28,
   "id": "65141355",
   "metadata": {},
   "outputs": [
    {
     "data": {
      "text/plain": [
       "[10, 15, 14]"
      ]
     },
     "execution_count": 28,
     "metadata": {},
     "output_type": "execute_result"
    }
   ],
   "source": [
    "list1"
   ]
  },
  {
   "cell_type": "code",
   "execution_count": 29,
   "id": "858acdb0",
   "metadata": {},
   "outputs": [],
   "source": [
    "valor_1_0 = list1[0]"
   ]
  },
  {
   "cell_type": "code",
   "execution_count": 30,
   "id": "ff1164cf",
   "metadata": {},
   "outputs": [
    {
     "data": {
      "text/plain": [
       "10"
      ]
     },
     "execution_count": 30,
     "metadata": {},
     "output_type": "execute_result"
    }
   ],
   "source": [
    "valor_1_0"
   ]
  },
  {
   "cell_type": "code",
   "execution_count": 31,
   "id": "d374695c",
   "metadata": {},
   "outputs": [],
   "source": [
    "valor_1_2 = list1[2]"
   ]
  },
  {
   "cell_type": "code",
   "execution_count": 32,
   "id": "96e3c55e",
   "metadata": {},
   "outputs": [
    {
     "data": {
      "text/plain": [
       "14"
      ]
     },
     "execution_count": 32,
     "metadata": {},
     "output_type": "execute_result"
    }
   ],
   "source": [
    "valor_1_2"
   ]
  },
  {
   "cell_type": "code",
   "execution_count": 34,
   "id": "7e109040",
   "metadata": {},
   "outputs": [],
   "source": [
    "list2 = listas[2]"
   ]
  },
  {
   "cell_type": "raw",
   "id": "8ba1eb2f",
   "metadata": {},
   "source": []
  },
  {
   "cell_type": "code",
   "execution_count": 35,
   "id": "6d662192",
   "metadata": {},
   "outputs": [
    {
     "data": {
      "text/plain": [
       "[10.1, 8.7, 2.3]"
      ]
     },
     "execution_count": 35,
     "metadata": {},
     "output_type": "execute_result"
    }
   ],
   "source": [
    "list2"
   ]
  },
  {
   "cell_type": "code",
   "execution_count": 36,
   "id": "a0a2f161",
   "metadata": {},
   "outputs": [],
   "source": [
    "valor_2_0 = list2[0]"
   ]
  },
  {
   "cell_type": "code",
   "execution_count": 37,
   "id": "dff3da5c",
   "metadata": {},
   "outputs": [
    {
     "data": {
      "text/plain": [
       "10.1"
      ]
     },
     "execution_count": 37,
     "metadata": {},
     "output_type": "execute_result"
    }
   ],
   "source": [
    "valor_2_0"
   ]
  },
  {
   "cell_type": "code",
   "execution_count": null,
   "id": "d055e1a3",
   "metadata": {},
   "outputs": [],
   "source": [
    "#Operações com listas"
   ]
  },
  {
   "cell_type": "code",
   "execution_count": 39,
   "id": "1be76680",
   "metadata": {},
   "outputs": [],
   "source": [
    "listaninhada = listas"
   ]
  },
  {
   "cell_type": "code",
   "execution_count": 40,
   "id": "3a555765",
   "metadata": {},
   "outputs": [
    {
     "data": {
      "text/plain": [
       "[[1, 2, 3], [10, 15, 14], [10.1, 8.7, 2.3]]"
      ]
     },
     "execution_count": 40,
     "metadata": {},
     "output_type": "execute_result"
    }
   ],
   "source": [
    "listaninhada"
   ]
  },
  {
   "cell_type": "code",
   "execution_count": 41,
   "id": "145c427e",
   "metadata": {},
   "outputs": [],
   "source": [
    "a = listaninhada[0][0]"
   ]
  },
  {
   "cell_type": "code",
   "execution_count": 42,
   "id": "01742202",
   "metadata": {},
   "outputs": [
    {
     "data": {
      "text/plain": [
       "1"
      ]
     },
     "execution_count": 42,
     "metadata": {},
     "output_type": "execute_result"
    }
   ],
   "source": [
    "a"
   ]
  },
  {
   "cell_type": "code",
   "execution_count": 43,
   "id": "e16a71f9",
   "metadata": {},
   "outputs": [],
   "source": [
    "b = listaninhada[1][2]"
   ]
  },
  {
   "cell_type": "code",
   "execution_count": 44,
   "id": "e8197cc6",
   "metadata": {},
   "outputs": [
    {
     "data": {
      "text/plain": [
       "14"
      ]
     },
     "execution_count": 44,
     "metadata": {},
     "output_type": "execute_result"
    }
   ],
   "source": [
    "b"
   ]
  },
  {
   "cell_type": "code",
   "execution_count": 45,
   "id": "77824397",
   "metadata": {},
   "outputs": [],
   "source": [
    "c = listaninhada[0][2] + 10"
   ]
  },
  {
   "cell_type": "code",
   "execution_count": 46,
   "id": "36180e8d",
   "metadata": {},
   "outputs": [
    {
     "data": {
      "text/plain": [
       "13"
      ]
     },
     "execution_count": 46,
     "metadata": {},
     "output_type": "execute_result"
    }
   ],
   "source": [
    "c"
   ]
  },
  {
   "cell_type": "code",
   "execution_count": 47,
   "id": "27f6e743",
   "metadata": {},
   "outputs": [],
   "source": [
    "d = 10"
   ]
  },
  {
   "cell_type": "code",
   "execution_count": 48,
   "id": "b9153aba",
   "metadata": {},
   "outputs": [
    {
     "data": {
      "text/plain": [
       "10"
      ]
     },
     "execution_count": 48,
     "metadata": {},
     "output_type": "execute_result"
    }
   ],
   "source": [
    "d"
   ]
  },
  {
   "cell_type": "code",
   "execution_count": 49,
   "id": "d6d39bc8",
   "metadata": {},
   "outputs": [],
   "source": [
    "e = d * listas[2][0]"
   ]
  },
  {
   "cell_type": "code",
   "execution_count": 50,
   "id": "2888be5c",
   "metadata": {},
   "outputs": [
    {
     "data": {
      "text/plain": [
       "101.0"
      ]
     },
     "execution_count": 50,
     "metadata": {},
     "output_type": "execute_result"
    }
   ],
   "source": [
    "e"
   ]
  },
  {
   "cell_type": "code",
   "execution_count": 51,
   "id": "c5e44cff",
   "metadata": {},
   "outputs": [],
   "source": [
    "#Concatenando listas"
   ]
  },
  {
   "cell_type": "code",
   "execution_count": 52,
   "id": "e388973b",
   "metadata": {},
   "outputs": [],
   "source": [
    "lista_s1 = [6, 13, 19]"
   ]
  },
  {
   "cell_type": "code",
   "execution_count": 54,
   "id": "77aac651",
   "metadata": {},
   "outputs": [
    {
     "data": {
      "text/plain": [
       "[6, 13, 19]"
      ]
     },
     "execution_count": 54,
     "metadata": {},
     "output_type": "execute_result"
    }
   ],
   "source": [
    "lista_s1"
   ]
  },
  {
   "cell_type": "code",
   "execution_count": 53,
   "id": "86e1600e",
   "metadata": {},
   "outputs": [],
   "source": [
    "lista_s2 = [21, 90, 51]"
   ]
  },
  {
   "cell_type": "code",
   "execution_count": 55,
   "id": "03827d9d",
   "metadata": {},
   "outputs": [
    {
     "data": {
      "text/plain": [
       "[21, 90, 51]"
      ]
     },
     "execution_count": 55,
     "metadata": {},
     "output_type": "execute_result"
    }
   ],
   "source": [
    "lista_s2"
   ]
  },
  {
   "cell_type": "code",
   "execution_count": 56,
   "id": "162bb0fa",
   "metadata": {},
   "outputs": [],
   "source": [
    "lista_total = lista_s1 + lista_s2"
   ]
  },
  {
   "cell_type": "code",
   "execution_count": 57,
   "id": "7f50a60a",
   "metadata": {},
   "outputs": [
    {
     "data": {
      "text/plain": [
       "[6, 13, 19, 21, 90, 51]"
      ]
     },
     "execution_count": 57,
     "metadata": {},
     "output_type": "execute_result"
    }
   ],
   "source": [
    "lista_total"
   ]
  },
  {
   "cell_type": "code",
   "execution_count": 60,
   "id": "d832ccc5",
   "metadata": {},
   "outputs": [],
   "source": [
    "#Operador in - verifica se determinado valor está na lista"
   ]
  },
  {
   "cell_type": "code",
   "execution_count": 61,
   "id": "1a76d331",
   "metadata": {},
   "outputs": [],
   "source": [
    "lista_teste_op = [100, 2, -5, 3.7]"
   ]
  },
  {
   "cell_type": "code",
   "execution_count": 62,
   "id": "3a78f8e6",
   "metadata": {},
   "outputs": [
    {
     "name": "stdout",
     "output_type": "stream",
     "text": [
      "False\n"
     ]
    }
   ],
   "source": [
    "print(10 in lista_teste_op)"
   ]
  },
  {
   "cell_type": "code",
   "execution_count": 63,
   "id": "309a1274",
   "metadata": {},
   "outputs": [
    {
     "name": "stdout",
     "output_type": "stream",
     "text": [
      "True\n"
     ]
    }
   ],
   "source": [
    "print(100 in lista_teste_op)"
   ]
  },
  {
   "cell_type": "code",
   "execution_count": 64,
   "id": "c4f2eef9",
   "metadata": {},
   "outputs": [],
   "source": [
    "#Funções Built-in"
   ]
  },
  {
   "cell_type": "code",
   "execution_count": 65,
   "id": "f26b295f",
   "metadata": {},
   "outputs": [],
   "source": [
    "#len() retorna o comprimento da lista"
   ]
  },
  {
   "cell_type": "code",
   "execution_count": 68,
   "id": "616b552c",
   "metadata": {},
   "outputs": [
    {
     "data": {
      "text/plain": [
       "3"
      ]
     },
     "execution_count": 68,
     "metadata": {},
     "output_type": "execute_result"
    }
   ],
   "source": [
    "len(listadomercado2)"
   ]
  },
  {
   "cell_type": "code",
   "execution_count": 69,
   "id": "5e1930fd",
   "metadata": {},
   "outputs": [
    {
     "data": {
      "text/plain": [
       "100"
      ]
     },
     "execution_count": 69,
     "metadata": {},
     "output_type": "execute_result"
    }
   ],
   "source": [
    "#max() retorna o valor mais alto\n",
    "max(lista_teste_op)"
   ]
  },
  {
   "cell_type": "code",
   "execution_count": 70,
   "id": "e6437267",
   "metadata": {},
   "outputs": [
    {
     "data": {
      "text/plain": [
       "-5"
      ]
     },
     "execution_count": 70,
     "metadata": {},
     "output_type": "execute_result"
    }
   ],
   "source": [
    "#min() retorna o valor mais baixo\n",
    "min(lista_teste_op)"
   ]
  },
  {
   "cell_type": "code",
   "execution_count": 72,
   "id": "7ae7868a",
   "metadata": {},
   "outputs": [],
   "source": [
    "listadomercadinho = [\"batata\", \"cenoura\", \"banana\", \"quiabo\"]"
   ]
  },
  {
   "cell_type": "code",
   "execution_count": 73,
   "id": "249dd46c",
   "metadata": {},
   "outputs": [
    {
     "data": {
      "text/plain": [
       "['batata', 'cenoura', 'banana', 'quiabo']"
      ]
     },
     "execution_count": 73,
     "metadata": {},
     "output_type": "execute_result"
    }
   ],
   "source": [
    "listadomercadinho"
   ]
  },
  {
   "cell_type": "code",
   "execution_count": 74,
   "id": "d7d112bb",
   "metadata": {},
   "outputs": [],
   "source": [
    "#Adicionando um item a lista\n",
    "listadomercadinho.append(\"inhame\")"
   ]
  },
  {
   "cell_type": "code",
   "execution_count": 75,
   "id": "fa7183b0",
   "metadata": {},
   "outputs": [
    {
     "data": {
      "text/plain": [
       "['batata', 'cenoura', 'banana', 'quiabo', 'inhame']"
      ]
     },
     "execution_count": 75,
     "metadata": {},
     "output_type": "execute_result"
    }
   ],
   "source": [
    "listadomercadinho"
   ]
  },
  {
   "cell_type": "code",
   "execution_count": 76,
   "id": "8be7d842",
   "metadata": {},
   "outputs": [],
   "source": [
    "listadomercadinho.append(\"inhame\")"
   ]
  },
  {
   "cell_type": "code",
   "execution_count": 77,
   "id": "660fd73f",
   "metadata": {},
   "outputs": [
    {
     "data": {
      "text/plain": [
       "['batata', 'cenoura', 'banana', 'quiabo', 'inhame', 'inhame']"
      ]
     },
     "execution_count": 77,
     "metadata": {},
     "output_type": "execute_result"
    }
   ],
   "source": [
    "listadomercadinho"
   ]
  },
  {
   "cell_type": "code",
   "execution_count": 78,
   "id": "6c02dbf0",
   "metadata": {},
   "outputs": [
    {
     "data": {
      "text/plain": [
       "2"
      ]
     },
     "execution_count": 78,
     "metadata": {},
     "output_type": "execute_result"
    }
   ],
   "source": [
    "listadomercadinho.count(\"inhame\")"
   ]
  },
  {
   "cell_type": "code",
   "execution_count": 81,
   "id": "bfa15372",
   "metadata": {},
   "outputs": [],
   "source": [
    "#Criando lista vazia\n",
    "vazio = []"
   ]
  },
  {
   "cell_type": "code",
   "execution_count": 82,
   "id": "58731cb8",
   "metadata": {},
   "outputs": [
    {
     "name": "stdout",
     "output_type": "stream",
     "text": [
      "[]\n"
     ]
    }
   ],
   "source": [
    "print(vazio)"
   ]
  },
  {
   "cell_type": "code",
   "execution_count": 83,
   "id": "340d6e13",
   "metadata": {},
   "outputs": [
    {
     "data": {
      "text/plain": [
       "list"
      ]
     },
     "execution_count": 83,
     "metadata": {},
     "output_type": "execute_result"
    }
   ],
   "source": [
    "type(vazio)"
   ]
  },
  {
   "cell_type": "code",
   "execution_count": 84,
   "id": "caa021f2",
   "metadata": {},
   "outputs": [],
   "source": [
    "vazio.append(13)"
   ]
  },
  {
   "cell_type": "code",
   "execution_count": 85,
   "id": "2c89f19d",
   "metadata": {},
   "outputs": [
    {
     "data": {
      "text/plain": [
       "[13]"
      ]
     },
     "execution_count": 85,
     "metadata": {},
     "output_type": "execute_result"
    }
   ],
   "source": [
    "vazio"
   ]
  },
  {
   "cell_type": "code",
   "execution_count": 87,
   "id": "8fa96e65",
   "metadata": {},
   "outputs": [],
   "source": [
    "vazio.append(7)"
   ]
  },
  {
   "cell_type": "code",
   "execution_count": 88,
   "id": "07974609",
   "metadata": {},
   "outputs": [
    {
     "data": {
      "text/plain": [
       "[13, 7]"
      ]
     },
     "execution_count": 88,
     "metadata": {},
     "output_type": "execute_result"
    }
   ],
   "source": [
    "vazio"
   ]
  },
  {
   "cell_type": "code",
   "execution_count": 89,
   "id": "f17ab473",
   "metadata": {},
   "outputs": [],
   "source": [
    "old_list = [1,2,5,10]"
   ]
  },
  {
   "cell_type": "code",
   "execution_count": 90,
   "id": "37e32fab",
   "metadata": {},
   "outputs": [],
   "source": [
    "new_list = []"
   ]
  },
  {
   "cell_type": "code",
   "execution_count": 92,
   "id": "785dd93a",
   "metadata": {},
   "outputs": [],
   "source": [
    "#Copiando os itens de uma lista para outra com for\n",
    "for item in old_list:\n",
    "    new_list.append(item)"
   ]
  },
  {
   "cell_type": "code",
   "execution_count": 93,
   "id": "a2d6224a",
   "metadata": {},
   "outputs": [
    {
     "data": {
      "text/plain": [
       "[1, 2, 5, 10]"
      ]
     },
     "execution_count": 93,
     "metadata": {},
     "output_type": "execute_result"
    }
   ],
   "source": [
    "new_list"
   ]
  },
  {
   "cell_type": "code",
   "execution_count": 94,
   "id": "0466ad2a",
   "metadata": {},
   "outputs": [],
   "source": [
    "c = [20,30]"
   ]
  },
  {
   "cell_type": "code",
   "execution_count": 95,
   "id": "deb3e8bb",
   "metadata": {},
   "outputs": [],
   "source": [
    "c.append(60)"
   ]
  },
  {
   "cell_type": "code",
   "execution_count": 96,
   "id": "9e2d8749",
   "metadata": {},
   "outputs": [],
   "source": [
    "c.append(70)"
   ]
  },
  {
   "cell_type": "code",
   "execution_count": 97,
   "id": "982d7c64",
   "metadata": {},
   "outputs": [
    {
     "data": {
      "text/plain": [
       "[20, 30, 60, 70]"
      ]
     },
     "execution_count": 97,
     "metadata": {},
     "output_type": "execute_result"
    }
   ],
   "source": [
    "c"
   ]
  },
  {
   "cell_type": "code",
   "execution_count": 98,
   "id": "e0d26f72",
   "metadata": {},
   "outputs": [
    {
     "data": {
      "text/plain": [
       "1"
      ]
     },
     "execution_count": 98,
     "metadata": {},
     "output_type": "execute_result"
    }
   ],
   "source": [
    "c.count(20)"
   ]
  },
  {
   "cell_type": "code",
   "execution_count": 100,
   "id": "f61dcb36",
   "metadata": {},
   "outputs": [
    {
     "name": "stdout",
     "output_type": "stream",
     "text": [
      "['Doresópolis', 'Piumhi', 'Ituiutaba', 'Vancouver', 'Toronto']\n"
     ]
    }
   ],
   "source": [
    "cidades = ['Doresópolis', 'Piumhi', 'Ituiutaba']\n",
    "cidades.extend(['Vancouver', 'Toronto'])\n",
    "print(cidades)"
   ]
  },
  {
   "cell_type": "code",
   "execution_count": 103,
   "id": "c59654cb",
   "metadata": {},
   "outputs": [
    {
     "data": {
      "text/plain": [
       "3"
      ]
     },
     "execution_count": 103,
     "metadata": {},
     "output_type": "execute_result"
    }
   ],
   "source": [
    "cidades.index('Vancouver')"
   ]
  },
  {
   "cell_type": "code",
   "execution_count": 104,
   "id": "5576ff70",
   "metadata": {},
   "outputs": [
    {
     "ename": "NameError",
     "evalue": "name 'cidade' is not defined",
     "output_type": "error",
     "traceback": [
      "\u001b[0;31m---------------------------------------------------------------------------\u001b[0m",
      "\u001b[0;31mNameError\u001b[0m                                 Traceback (most recent call last)",
      "\u001b[0;32m<ipython-input-104-385892fcea7f>\u001b[0m in \u001b[0;36m<module>\u001b[0;34m\u001b[0m\n\u001b[0;32m----> 1\u001b[0;31m \u001b[0mcidade\u001b[0m\u001b[0;34m.\u001b[0m\u001b[0mindex\u001b[0m\u001b[0;34m(\u001b[0m\u001b[0;34m'São Paulo'\u001b[0m\u001b[0;34m)\u001b[0m\u001b[0;34m\u001b[0m\u001b[0;34m\u001b[0m\u001b[0m\n\u001b[0m",
      "\u001b[0;31mNameError\u001b[0m: name 'cidade' is not defined"
     ]
    }
   ],
   "source": [
    "cidade.index('São Paulo')"
   ]
  },
  {
   "cell_type": "code",
   "execution_count": 105,
   "id": "a4ec5c28",
   "metadata": {},
   "outputs": [
    {
     "data": {
      "text/plain": [
       "['Doresópolis', 'Piumhi', 'Ituiutaba', 'Vancouver', 'Toronto']"
      ]
     },
     "execution_count": 105,
     "metadata": {},
     "output_type": "execute_result"
    }
   ],
   "source": [
    "cidades"
   ]
  },
  {
   "cell_type": "code",
   "execution_count": 106,
   "id": "d2fe29e0",
   "metadata": {},
   "outputs": [],
   "source": [
    "cidades.insert(2, 110)"
   ]
  },
  {
   "cell_type": "code",
   "execution_count": 107,
   "id": "77c74b84",
   "metadata": {},
   "outputs": [
    {
     "data": {
      "text/plain": [
       "['Doresópolis', 'Piumhi', 110, 'Ituiutaba', 'Vancouver', 'Toronto']"
      ]
     },
     "execution_count": 107,
     "metadata": {},
     "output_type": "execute_result"
    }
   ],
   "source": [
    "cidades"
   ]
  },
  {
   "cell_type": "code",
   "execution_count": 108,
   "id": "7e2bfc27",
   "metadata": {},
   "outputs": [],
   "source": [
    "cidades.remove(110)"
   ]
  },
  {
   "cell_type": "code",
   "execution_count": 109,
   "id": "cac3b29d",
   "metadata": {},
   "outputs": [
    {
     "data": {
      "text/plain": [
       "['Doresópolis', 'Piumhi', 'Ituiutaba', 'Vancouver', 'Toronto']"
      ]
     },
     "execution_count": 109,
     "metadata": {},
     "output_type": "execute_result"
    }
   ],
   "source": [
    "cidades"
   ]
  },
  {
   "cell_type": "code",
   "execution_count": 112,
   "id": "0c8450c6",
   "metadata": {},
   "outputs": [],
   "source": [
    "#Reverte a lista\n",
    "cidades.reverse()"
   ]
  },
  {
   "cell_type": "code",
   "execution_count": 111,
   "id": "72f3b99d",
   "metadata": {},
   "outputs": [
    {
     "data": {
      "text/plain": [
       "['Toronto', 'Vancouver', 'Ituiutaba', 'Piumhi', 'Doresópolis']"
      ]
     },
     "execution_count": 111,
     "metadata": {},
     "output_type": "execute_result"
    }
   ],
   "source": [
    "cidades"
   ]
  },
  {
   "cell_type": "code",
   "execution_count": 113,
   "id": "c9230422",
   "metadata": {},
   "outputs": [],
   "source": [
    "f = [3,7,13,6,2,1]"
   ]
  },
  {
   "cell_type": "code",
   "execution_count": 114,
   "id": "cbdd857d",
   "metadata": {},
   "outputs": [
    {
     "data": {
      "text/plain": [
       "[3, 7, 13, 6, 2, 1]"
      ]
     },
     "execution_count": 114,
     "metadata": {},
     "output_type": "execute_result"
    }
   ],
   "source": [
    "f"
   ]
  },
  {
   "cell_type": "code",
   "execution_count": 118,
   "id": "743a09df",
   "metadata": {},
   "outputs": [],
   "source": [
    "#Ordena a lista\n",
    "f.sort()"
   ]
  },
  {
   "cell_type": "code",
   "execution_count": 119,
   "id": "45401bdb",
   "metadata": {},
   "outputs": [
    {
     "data": {
      "text/plain": [
       "[1, 2, 3, 6, 7, 13]"
      ]
     },
     "execution_count": 119,
     "metadata": {},
     "output_type": "execute_result"
    }
   ],
   "source": [
    "f"
   ]
  },
  {
   "cell_type": "code",
   "execution_count": null,
   "id": "5c6863d9",
   "metadata": {},
   "outputs": [],
   "source": []
  }
 ],
 "metadata": {
  "kernelspec": {
   "display_name": "Python 3",
   "language": "python",
   "name": "python3"
  },
  "language_info": {
   "codemirror_mode": {
    "name": "ipython",
    "version": 3
   },
   "file_extension": ".py",
   "mimetype": "text/x-python",
   "name": "python",
   "nbconvert_exporter": "python",
   "pygments_lexer": "ipython3",
   "version": "3.8.8"
  }
 },
 "nbformat": 4,
 "nbformat_minor": 5
}
