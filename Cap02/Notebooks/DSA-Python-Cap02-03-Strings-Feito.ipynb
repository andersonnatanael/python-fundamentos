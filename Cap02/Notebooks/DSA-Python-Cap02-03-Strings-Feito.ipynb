{
 "cells": [
  {
   "cell_type": "markdown",
   "id": "701e85cd",
   "metadata": {},
   "source": [
    "# Strings"
   ]
  },
  {
   "cell_type": "markdown",
   "id": "be8cff38",
   "metadata": {},
   "source": [
    "## Criando uma String"
   ]
  },
  {
   "cell_type": "markdown",
   "id": "b292b303",
   "metadata": {},
   "source": [
    "##### Podem ser criadas tanto com aspas simples como com aspas duplas."
   ]
  },
  {
   "cell_type": "code",
   "execution_count": 2,
   "id": "c48b837f",
   "metadata": {},
   "outputs": [
    {
     "data": {
      "text/plain": [
       "'Hello'"
      ]
     },
     "execution_count": 2,
     "metadata": {},
     "output_type": "execute_result"
    }
   ],
   "source": [
    "# Simples ou duplas.\n",
    "'Hello'"
   ]
  },
  {
   "cell_type": "code",
   "execution_count": 3,
   "id": "c24561b6",
   "metadata": {},
   "outputs": [
    {
     "data": {
      "text/plain": [
       "'World'"
      ]
     },
     "execution_count": 3,
     "metadata": {},
     "output_type": "execute_result"
    }
   ],
   "source": [
    "\"World\""
   ]
  },
  {
   "cell_type": "code",
   "execution_count": 4,
   "id": "a9057823",
   "metadata": {},
   "outputs": [
    {
     "name": "stdout",
     "output_type": "stream",
     "text": [
      "Olá mudno!\n"
     ]
    }
   ],
   "source": [
    "print('Olá mudno!')"
   ]
  },
  {
   "cell_type": "code",
   "execution_count": 5,
   "id": "a47d1d1c",
   "metadata": {},
   "outputs": [],
   "source": [
    "t = 'Aqui é o Natan!'"
   ]
  },
  {
   "cell_type": "code",
   "execution_count": 6,
   "id": "693661bf",
   "metadata": {},
   "outputs": [
    {
     "data": {
      "text/plain": [
       "'Aqui é o Natan!'"
      ]
     },
     "execution_count": 6,
     "metadata": {},
     "output_type": "execute_result"
    }
   ],
   "source": [
    "t"
   ]
  },
  {
   "cell_type": "code",
   "execution_count": 7,
   "id": "139b6f43",
   "metadata": {},
   "outputs": [
    {
     "data": {
      "text/plain": [
       "'A'"
      ]
     },
     "execution_count": 7,
     "metadata": {},
     "output_type": "execute_result"
    }
   ],
   "source": [
    "t[0]"
   ]
  },
  {
   "cell_type": "code",
   "execution_count": 8,
   "id": "4007915a",
   "metadata": {},
   "outputs": [
    {
     "data": {
      "text/plain": [
       "'q'"
      ]
     },
     "execution_count": 8,
     "metadata": {},
     "output_type": "execute_result"
    }
   ],
   "source": [
    "t[1]"
   ]
  },
  {
   "cell_type": "code",
   "execution_count": 9,
   "id": "b7415299",
   "metadata": {},
   "outputs": [
    {
     "data": {
      "text/plain": [
       "'qui é o Natan!'"
      ]
     },
     "execution_count": 9,
     "metadata": {},
     "output_type": "execute_result"
    }
   ],
   "source": [
    "#Podemos utilizar um : para executar um slicing que faz a leitura\n",
    "#detudo até um ponto determinado.\n",
    "t[1:]"
   ]
  },
  {
   "cell_type": "code",
   "execution_count": 12,
   "id": "4116ee8f",
   "metadata": {},
   "outputs": [
    {
     "data": {
      "text/plain": [
       "'aN o é iuqA'"
      ]
     },
     "execution_count": 12,
     "metadata": {},
     "output_type": "execute_result"
    }
   ],
   "source": [
    "#E também podemos utilizar a notação de índice e fatiar a string \n",
    "#em pedaços específicos (o padrão é 1). Veja os exemplos a seguir\n",
    "t[-5::-1]"
   ]
  },
  {
   "cell_type": "code",
   "execution_count": 14,
   "id": "6b2f7cba",
   "metadata": {},
   "outputs": [
    {
     "data": {
      "text/plain": [
       "'Aqui é o Natan!'"
      ]
     },
     "execution_count": 14,
     "metadata": {},
     "output_type": "execute_result"
    }
   ],
   "source": [
    "t"
   ]
  },
  {
   "cell_type": "code",
   "execution_count": 16,
   "id": "f6292cdd",
   "metadata": {},
   "outputs": [
    {
     "data": {
      "text/plain": [
       "'Au   aa!'"
      ]
     },
     "execution_count": 16,
     "metadata": {},
     "output_type": "execute_result"
    }
   ],
   "source": [
    "t[::2]"
   ]
  },
  {
   "cell_type": "code",
   "execution_count": 11,
   "id": "931447bf",
   "metadata": {},
   "outputs": [
    {
     "data": {
      "text/plain": [
       "'!nataN o é iuqA'"
      ]
     },
     "execution_count": 11,
     "metadata": {},
     "output_type": "execute_result"
    }
   ],
   "source": [
    "t[::-1]"
   ]
  },
  {
   "cell_type": "markdown",
   "id": "aef13b14",
   "metadata": {},
   "source": [
    "### Propriedades de Strings"
   ]
  },
  {
   "cell_type": "code",
   "execution_count": 17,
   "id": "200a577b",
   "metadata": {},
   "outputs": [],
   "source": [
    "#Não é possível alterar um caracter em uma string, mas é possível\n",
    "#fazer a concatenação de diferentes strings e autera-la desta forma"
   ]
  },
  {
   "cell_type": "code",
   "execution_count": 18,
   "id": "04d34dac",
   "metadata": {},
   "outputs": [
    {
     "ename": "TypeError",
     "evalue": "'str' object does not support item assignment",
     "output_type": "error",
     "traceback": [
      "\u001b[0;31m---------------------------------------------------------------------------\u001b[0m",
      "\u001b[0;31mTypeError\u001b[0m                                 Traceback (most recent call last)",
      "\u001b[0;32m<ipython-input-18-fbccf2cd3250>\u001b[0m in \u001b[0;36m<module>\u001b[0;34m\u001b[0m\n\u001b[0;32m----> 1\u001b[0;31m \u001b[0mt\u001b[0m\u001b[0;34m[\u001b[0m\u001b[0;36m0\u001b[0m\u001b[0;34m]\u001b[0m \u001b[0;34m=\u001b[0m \u001b[0;34m'O'\u001b[0m\u001b[0;34m\u001b[0m\u001b[0;34m\u001b[0m\u001b[0m\n\u001b[0m",
      "\u001b[0;31mTypeError\u001b[0m: 'str' object does not support item assignment"
     ]
    }
   ],
   "source": [
    "t[0] = 'O'"
   ]
  },
  {
   "cell_type": "code",
   "execution_count": 21,
   "id": "bff11dd2",
   "metadata": {},
   "outputs": [],
   "source": [
    "o = 'Ou será que não?'"
   ]
  },
  {
   "cell_type": "code",
   "execution_count": 22,
   "id": "f10ff31a",
   "metadata": {},
   "outputs": [
    {
     "data": {
      "text/plain": [
       "'Aqui é o Natan! Ou será que não?'"
      ]
     },
     "execution_count": 22,
     "metadata": {},
     "output_type": "execute_result"
    }
   ],
   "source": [
    "t + ' ' + o"
   ]
  },
  {
   "cell_type": "code",
   "execution_count": 23,
   "id": "ae530ab5",
   "metadata": {},
   "outputs": [
    {
     "data": {
      "text/plain": [
       "'Ou será que não?Ou será que não?Ou será que não?'"
      ]
     },
     "execution_count": 23,
     "metadata": {},
     "output_type": "execute_result"
    }
   ],
   "source": [
    "o * 3"
   ]
  },
  {
   "cell_type": "markdown",
   "id": "6d3e6262",
   "metadata": {},
   "source": [
    "### Funções Built-in de Strings"
   ]
  },
  {
   "cell_type": "code",
   "execution_count": 24,
   "id": "0744762d",
   "metadata": {},
   "outputs": [
    {
     "data": {
      "text/plain": [
       "'Aqui é o Natan!'"
      ]
     },
     "execution_count": 24,
     "metadata": {},
     "output_type": "execute_result"
    }
   ],
   "source": [
    "t"
   ]
  },
  {
   "cell_type": "code",
   "execution_count": 25,
   "id": "fd582271",
   "metadata": {},
   "outputs": [
    {
     "data": {
      "text/plain": [
       "'AQUI É O NATAN!'"
      ]
     },
     "execution_count": 25,
     "metadata": {},
     "output_type": "execute_result"
    }
   ],
   "source": [
    "t.upper()"
   ]
  },
  {
   "cell_type": "code",
   "execution_count": 26,
   "id": "8f563afd",
   "metadata": {},
   "outputs": [
    {
     "data": {
      "text/plain": [
       "'aqui é o natan!'"
      ]
     },
     "execution_count": 26,
     "metadata": {},
     "output_type": "execute_result"
    }
   ],
   "source": [
    "t.lower()"
   ]
  },
  {
   "cell_type": "code",
   "execution_count": 27,
   "id": "1b5cc519",
   "metadata": {},
   "outputs": [
    {
     "data": {
      "text/plain": [
       "['Aqui', 'é', 'o', 'Natan!']"
      ]
     },
     "execution_count": 27,
     "metadata": {},
     "output_type": "execute_result"
    }
   ],
   "source": [
    "t.split()"
   ]
  },
  {
   "cell_type": "code",
   "execution_count": 29,
   "id": "2edf53a6",
   "metadata": {},
   "outputs": [
    {
     "data": {
      "text/plain": [
       "['Aqui é o N', 't', 'n!']"
      ]
     },
     "execution_count": 29,
     "metadata": {},
     "output_type": "execute_result"
    }
   ],
   "source": [
    "t.split('a')"
   ]
  },
  {
   "cell_type": "code",
   "execution_count": 32,
   "id": "02d98426",
   "metadata": {},
   "outputs": [],
   "source": [
    "s = 'se não importa onde se quer chegar, então qualquer caminho serve!'"
   ]
  },
  {
   "cell_type": "code",
   "execution_count": 35,
   "id": "36c5da33",
   "metadata": {},
   "outputs": [
    {
     "data": {
      "text/plain": [
       "'Se não importa onde se quer chegar, então qualquer caminho serve!'"
      ]
     },
     "execution_count": 35,
     "metadata": {},
     "output_type": "execute_result"
    }
   ],
   "source": [
    "s.capitalize()"
   ]
  },
  {
   "cell_type": "code",
   "execution_count": 36,
   "id": "ebebeac3",
   "metadata": {},
   "outputs": [
    {
     "data": {
      "text/plain": [
       "4"
      ]
     },
     "execution_count": 36,
     "metadata": {},
     "output_type": "execute_result"
    }
   ],
   "source": [
    "s.count('a')"
   ]
  },
  {
   "cell_type": "code",
   "execution_count": 37,
   "id": "ac2c906c",
   "metadata": {},
   "outputs": [
    {
     "data": {
      "text/plain": [
       "13"
      ]
     },
     "execution_count": 37,
     "metadata": {},
     "output_type": "execute_result"
    }
   ],
   "source": [
    "s.find('a')"
   ]
  },
  {
   "cell_type": "code",
   "execution_count": 38,
   "id": "95175408",
   "metadata": {},
   "outputs": [
    {
     "data": {
      "text/plain": [
       "'se não importa onde se quer chegar, então qualquer caminho serve!'"
      ]
     },
     "execution_count": 38,
     "metadata": {},
     "output_type": "execute_result"
    }
   ],
   "source": [
    "s.center(10, 'c')"
   ]
  },
  {
   "cell_type": "code",
   "execution_count": 39,
   "id": "3089d2fd",
   "metadata": {},
   "outputs": [
    {
     "data": {
      "text/plain": [
       "False"
      ]
     },
     "execution_count": 39,
     "metadata": {},
     "output_type": "execute_result"
    }
   ],
   "source": [
    "s.isalnum()"
   ]
  },
  {
   "cell_type": "code",
   "execution_count": 40,
   "id": "ecaebcb2",
   "metadata": {},
   "outputs": [
    {
     "data": {
      "text/plain": [
       "False"
      ]
     },
     "execution_count": 40,
     "metadata": {},
     "output_type": "execute_result"
    }
   ],
   "source": [
    "s.isalpha()"
   ]
  },
  {
   "cell_type": "code",
   "execution_count": 43,
   "id": "96360c0d",
   "metadata": {},
   "outputs": [
    {
     "data": {
      "text/plain": [
       "True"
      ]
     },
     "execution_count": 43,
     "metadata": {},
     "output_type": "execute_result"
    }
   ],
   "source": [
    "s.islower()"
   ]
  },
  {
   "cell_type": "code",
   "execution_count": 44,
   "id": "f57cb3f3",
   "metadata": {},
   "outputs": [
    {
     "data": {
      "text/plain": [
       "False"
      ]
     },
     "execution_count": 44,
     "metadata": {},
     "output_type": "execute_result"
    }
   ],
   "source": [
    "s.isspace()"
   ]
  },
  {
   "cell_type": "code",
   "execution_count": 45,
   "id": "e6646d7b",
   "metadata": {},
   "outputs": [
    {
     "data": {
      "text/plain": [
       "False"
      ]
     },
     "execution_count": 45,
     "metadata": {},
     "output_type": "execute_result"
    }
   ],
   "source": [
    "s.endswith('o')"
   ]
  },
  {
   "cell_type": "code",
   "execution_count": 46,
   "id": "1fb1e52b",
   "metadata": {},
   "outputs": [
    {
     "data": {
      "text/plain": [
       "('se não importa onde se quer chegar, então qualquer caminho serve', '!', '')"
      ]
     },
     "execution_count": 46,
     "metadata": {},
     "output_type": "execute_result"
    }
   ],
   "source": [
    "s.partition('!')"
   ]
  },
  {
   "cell_type": "markdown",
   "id": "a6437d1c",
   "metadata": {},
   "source": [
    "### Comparação"
   ]
  },
  {
   "cell_type": "code",
   "execution_count": 47,
   "id": "52406699",
   "metadata": {},
   "outputs": [
    {
     "name": "stdout",
     "output_type": "stream",
     "text": [
      "False\n"
     ]
    }
   ],
   "source": [
    "print('Python' == 'R')"
   ]
  },
  {
   "cell_type": "code",
   "execution_count": 48,
   "id": "37a3bd28",
   "metadata": {},
   "outputs": [
    {
     "name": "stdout",
     "output_type": "stream",
     "text": [
      "True\n"
     ]
    }
   ],
   "source": [
    "print('Python' == 'Python')"
   ]
  },
  {
   "cell_type": "code",
   "execution_count": null,
   "id": "c671e8b6",
   "metadata": {},
   "outputs": [],
   "source": []
  }
 ],
 "metadata": {
  "kernelspec": {
   "display_name": "Python 3",
   "language": "python",
   "name": "python3"
  },
  "language_info": {
   "codemirror_mode": {
    "name": "ipython",
    "version": 3
   },
   "file_extension": ".py",
   "mimetype": "text/x-python",
   "name": "python",
   "nbconvert_exporter": "python",
   "pygments_lexer": "ipython3",
   "version": "3.8.8"
  }
 },
 "nbformat": 4,
 "nbformat_minor": 5
}
